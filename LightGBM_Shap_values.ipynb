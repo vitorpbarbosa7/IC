{
 "cells": [
  {
   "cell_type": "code",
   "execution_count": 1,
   "id": "1f9d2fdf",
   "metadata": {},
   "outputs": [],
   "source": [
    "import pandas as pd \n",
    "import numpy as np \n",
    "import matplotlib.pyplot as plt \n",
    "import seaborn as sns"
   ]
  },
  {
   "cell_type": "markdown",
   "id": "8439006a",
   "metadata": {},
   "source": [
    "### Leitura  e visualização da base de dados"
   ]
  },
  {
   "cell_type": "code",
   "execution_count": 2,
   "id": "d507c19b",
   "metadata": {},
   "outputs": [],
   "source": [
    "df = pd.read_excel('ic.xlsx')"
   ]
  },
  {
   "cell_type": "code",
   "execution_count": 3,
   "id": "4ac044ba",
   "metadata": {},
   "outputs": [
    {
     "data": {
      "text/html": [
       "<div>\n",
       "<style scoped>\n",
       "    .dataframe tbody tr th:only-of-type {\n",
       "        vertical-align: middle;\n",
       "    }\n",
       "\n",
       "    .dataframe tbody tr th {\n",
       "        vertical-align: top;\n",
       "    }\n",
       "\n",
       "    .dataframe thead th {\n",
       "        text-align: right;\n",
       "    }\n",
       "</style>\n",
       "<table border=\"1\" class=\"dataframe\">\n",
       "  <thead>\n",
       "    <tr style=\"text-align: right;\">\n",
       "      <th></th>\n",
       "      <th>T</th>\n",
       "      <th>Acidez</th>\n",
       "      <th>Aw</th>\n",
       "      <th>Umidade</th>\n",
       "      <th>ST</th>\n",
       "      <th>Brix</th>\n",
       "      <th>Cor - L*</th>\n",
       "      <th>Cor - a*</th>\n",
       "      <th>Cor - b*</th>\n",
       "      <th>sig</th>\n",
       "      <th>w1_915</th>\n",
       "      <th>w1_2450</th>\n",
       "      <th>w2_915</th>\n",
       "      <th>w2_2450</th>\n",
       "      <th>e1_915</th>\n",
       "      <th>e1_2450</th>\n",
       "      <th>e2_915</th>\n",
       "      <th>e2_2450</th>\n",
       "    </tr>\n",
       "  </thead>\n",
       "  <tbody>\n",
       "    <tr>\n",
       "      <th>61</th>\n",
       "      <td>5</td>\n",
       "      <td>0.062703</td>\n",
       "      <td>0.957</td>\n",
       "      <td>91.567047</td>\n",
       "      <td>27.606100</td>\n",
       "      <td>7.88</td>\n",
       "      <td>65.930000</td>\n",
       "      <td>3.730000</td>\n",
       "      <td>32.590000</td>\n",
       "      <td>0.484900</td>\n",
       "      <td>0.956924</td>\n",
       "      <td>0.928028</td>\n",
       "      <td>1.235806</td>\n",
       "      <td>1.054883</td>\n",
       "      <td>81.87867</td>\n",
       "      <td>76.93965</td>\n",
       "      <td>8.66829</td>\n",
       "      <td>17.88990</td>\n",
       "    </tr>\n",
       "    <tr>\n",
       "      <th>21</th>\n",
       "      <td>5</td>\n",
       "      <td>0.084709</td>\n",
       "      <td>0.956</td>\n",
       "      <td>88.790259</td>\n",
       "      <td>19.422500</td>\n",
       "      <td>11.56</td>\n",
       "      <td>32.710000</td>\n",
       "      <td>-0.752783</td>\n",
       "      <td>-0.377145</td>\n",
       "      <td>3.072244</td>\n",
       "      <td>0.935314</td>\n",
       "      <td>0.963390</td>\n",
       "      <td>1.800381</td>\n",
       "      <td>1.124921</td>\n",
       "      <td>80.19082</td>\n",
       "      <td>74.10700</td>\n",
       "      <td>17.11086</td>\n",
       "      <td>21.03050</td>\n",
       "    </tr>\n",
       "    <tr>\n",
       "      <th>117</th>\n",
       "      <td>80</td>\n",
       "      <td>1.556349</td>\n",
       "      <td>0.955</td>\n",
       "      <td>89.885415</td>\n",
       "      <td>10.114585</td>\n",
       "      <td>26.38</td>\n",
       "      <td>33.130000</td>\n",
       "      <td>-0.250000</td>\n",
       "      <td>-1.590000</td>\n",
       "      <td>9.152816</td>\n",
       "      <td>0.964807</td>\n",
       "      <td>1.186616</td>\n",
       "      <td>1.850816</td>\n",
       "      <td>2.263748</td>\n",
       "      <td>60.83796</td>\n",
       "      <td>60.10450</td>\n",
       "      <td>9.99038</td>\n",
       "      <td>6.50680</td>\n",
       "    </tr>\n",
       "    <tr>\n",
       "      <th>74</th>\n",
       "      <td>70</td>\n",
       "      <td>0.056794</td>\n",
       "      <td>0.956</td>\n",
       "      <td>91.539304</td>\n",
       "      <td>32.769800</td>\n",
       "      <td>7.78</td>\n",
       "      <td>65.850000</td>\n",
       "      <td>3.900000</td>\n",
       "      <td>32.590000</td>\n",
       "      <td>1.633667</td>\n",
       "      <td>0.988566</td>\n",
       "      <td>1.172366</td>\n",
       "      <td>1.375602</td>\n",
       "      <td>1.139686</td>\n",
       "      <td>65.07668</td>\n",
       "      <td>64.40500</td>\n",
       "      <td>5.38774</td>\n",
       "      <td>5.52770</td>\n",
       "    </tr>\n",
       "    <tr>\n",
       "      <th>133</th>\n",
       "      <td>60</td>\n",
       "      <td>0.596655</td>\n",
       "      <td>0.947</td>\n",
       "      <td>92.973276</td>\n",
       "      <td>7.026724</td>\n",
       "      <td>29.61</td>\n",
       "      <td>39.700000</td>\n",
       "      <td>22.790000</td>\n",
       "      <td>16.910000</td>\n",
       "      <td>4.204121</td>\n",
       "      <td>0.994881</td>\n",
       "      <td>0.986840</td>\n",
       "      <td>1.481341</td>\n",
       "      <td>1.296540</td>\n",
       "      <td>67.47320</td>\n",
       "      <td>66.67330</td>\n",
       "      <td>6.10524</td>\n",
       "      <td>6.47750</td>\n",
       "    </tr>\n",
       "    <tr>\n",
       "      <th>115</th>\n",
       "      <td>70</td>\n",
       "      <td>1.556349</td>\n",
       "      <td>0.955</td>\n",
       "      <td>89.885415</td>\n",
       "      <td>10.114585</td>\n",
       "      <td>26.38</td>\n",
       "      <td>33.130000</td>\n",
       "      <td>-0.250000</td>\n",
       "      <td>-1.590000</td>\n",
       "      <td>8.275347</td>\n",
       "      <td>0.965897</td>\n",
       "      <td>1.145453</td>\n",
       "      <td>1.851697</td>\n",
       "      <td>1.909361</td>\n",
       "      <td>63.15934</td>\n",
       "      <td>62.27990</td>\n",
       "      <td>9.57198</td>\n",
       "      <td>6.92280</td>\n",
       "    </tr>\n",
       "    <tr>\n",
       "      <th>66</th>\n",
       "      <td>30</td>\n",
       "      <td>0.056794</td>\n",
       "      <td>0.956</td>\n",
       "      <td>91.539304</td>\n",
       "      <td>32.769800</td>\n",
       "      <td>7.78</td>\n",
       "      <td>65.850000</td>\n",
       "      <td>3.900000</td>\n",
       "      <td>32.590000</td>\n",
       "      <td>0.880567</td>\n",
       "      <td>0.973668</td>\n",
       "      <td>1.011520</td>\n",
       "      <td>1.285863</td>\n",
       "      <td>1.120016</td>\n",
       "      <td>74.74056</td>\n",
       "      <td>73.01880</td>\n",
       "      <td>5.88888</td>\n",
       "      <td>10.21090</td>\n",
       "    </tr>\n",
       "    <tr>\n",
       "      <th>11</th>\n",
       "      <td>50</td>\n",
       "      <td>0.557757</td>\n",
       "      <td>0.959</td>\n",
       "      <td>91.347034</td>\n",
       "      <td>8.652966</td>\n",
       "      <td>8.68</td>\n",
       "      <td>32.599107</td>\n",
       "      <td>-0.601188</td>\n",
       "      <td>5.858409</td>\n",
       "      <td>1.356911</td>\n",
       "      <td>0.981347</td>\n",
       "      <td>1.097356</td>\n",
       "      <td>1.453888</td>\n",
       "      <td>1.189854</td>\n",
       "      <td>69.37424</td>\n",
       "      <td>68.31860</td>\n",
       "      <td>5.74512</td>\n",
       "      <td>7.25980</td>\n",
       "    </tr>\n",
       "    <tr>\n",
       "      <th>159</th>\n",
       "      <td>90</td>\n",
       "      <td>0.108326</td>\n",
       "      <td>0.975</td>\n",
       "      <td>92.304239</td>\n",
       "      <td>7.695761</td>\n",
       "      <td>30.31</td>\n",
       "      <td>52.560000</td>\n",
       "      <td>18.770000</td>\n",
       "      <td>15.320000</td>\n",
       "      <td>4.483072</td>\n",
       "      <td>0.997818</td>\n",
       "      <td>0.990019</td>\n",
       "      <td>1.467889</td>\n",
       "      <td>1.868359</td>\n",
       "      <td>60.24554</td>\n",
       "      <td>59.65470</td>\n",
       "      <td>6.69592</td>\n",
       "      <td>4.79750</td>\n",
       "    </tr>\n",
       "    <tr>\n",
       "      <th>34</th>\n",
       "      <td>70</td>\n",
       "      <td>0.080595</td>\n",
       "      <td>0.993</td>\n",
       "      <td>88.777440</td>\n",
       "      <td>28.001800</td>\n",
       "      <td>11.76</td>\n",
       "      <td>32.700000</td>\n",
       "      <td>-0.783333</td>\n",
       "      <td>-0.423333</td>\n",
       "      <td>10.286667</td>\n",
       "      <td>1.000613</td>\n",
       "      <td>1.001767</td>\n",
       "      <td>3.665153</td>\n",
       "      <td>1.851654</td>\n",
       "      <td>66.18432</td>\n",
       "      <td>64.18005</td>\n",
       "      <td>25.54488</td>\n",
       "      <td>14.03230</td>\n",
       "    </tr>\n",
       "    <tr>\n",
       "      <th>91</th>\n",
       "      <td>50</td>\n",
       "      <td>0.640485</td>\n",
       "      <td>0.953</td>\n",
       "      <td>89.983175</td>\n",
       "      <td>10.016825</td>\n",
       "      <td>12.88</td>\n",
       "      <td>42.600000</td>\n",
       "      <td>-1.520000</td>\n",
       "      <td>13.030000</td>\n",
       "      <td>7.786388</td>\n",
       "      <td>0.963829</td>\n",
       "      <td>0.937601</td>\n",
       "      <td>2.731786</td>\n",
       "      <td>1.486015</td>\n",
       "      <td>67.99030</td>\n",
       "      <td>65.91400</td>\n",
       "      <td>17.99186</td>\n",
       "      <td>12.14730</td>\n",
       "    </tr>\n",
       "    <tr>\n",
       "      <th>42</th>\n",
       "      <td>10</td>\n",
       "      <td>0.162593</td>\n",
       "      <td>0.984</td>\n",
       "      <td>86.651121</td>\n",
       "      <td>33.093300</td>\n",
       "      <td>6.58</td>\n",
       "      <td>35.506667</td>\n",
       "      <td>-0.783333</td>\n",
       "      <td>-0.423333</td>\n",
       "      <td>0.897467</td>\n",
       "      <td>0.990554</td>\n",
       "      <td>0.977384</td>\n",
       "      <td>1.336651</td>\n",
       "      <td>1.102009</td>\n",
       "      <td>82.44786</td>\n",
       "      <td>78.77420</td>\n",
       "      <td>8.93029</td>\n",
       "      <td>16.39805</td>\n",
       "    </tr>\n",
       "    <tr>\n",
       "      <th>136</th>\n",
       "      <td>80</td>\n",
       "      <td>0.602444</td>\n",
       "      <td>0.948</td>\n",
       "      <td>92.991176</td>\n",
       "      <td>7.008824</td>\n",
       "      <td>29.63</td>\n",
       "      <td>39.690000</td>\n",
       "      <td>22.800000</td>\n",
       "      <td>16.900000</td>\n",
       "      <td>4.576408</td>\n",
       "      <td>0.997657</td>\n",
       "      <td>0.990226</td>\n",
       "      <td>1.523331</td>\n",
       "      <td>1.384455</td>\n",
       "      <td>63.52145</td>\n",
       "      <td>62.89270</td>\n",
       "      <td>6.39810</td>\n",
       "      <td>5.47155</td>\n",
       "    </tr>\n",
       "    <tr>\n",
       "      <th>90</th>\n",
       "      <td>50</td>\n",
       "      <td>0.632628</td>\n",
       "      <td>0.954</td>\n",
       "      <td>90.070932</td>\n",
       "      <td>9.929068</td>\n",
       "      <td>12.78</td>\n",
       "      <td>43.140000</td>\n",
       "      <td>-1.420000</td>\n",
       "      <td>13.830000</td>\n",
       "      <td>7.783333</td>\n",
       "      <td>0.963829</td>\n",
       "      <td>0.937601</td>\n",
       "      <td>2.731786</td>\n",
       "      <td>1.486015</td>\n",
       "      <td>68.45892</td>\n",
       "      <td>66.25260</td>\n",
       "      <td>17.74668</td>\n",
       "      <td>12.17080</td>\n",
       "    </tr>\n",
       "    <tr>\n",
       "      <th>10</th>\n",
       "      <td>50</td>\n",
       "      <td>0.538279</td>\n",
       "      <td>0.959</td>\n",
       "      <td>91.411839</td>\n",
       "      <td>8.588161</td>\n",
       "      <td>8.58</td>\n",
       "      <td>32.593333</td>\n",
       "      <td>-0.633333</td>\n",
       "      <td>5.803333</td>\n",
       "      <td>1.356333</td>\n",
       "      <td>0.981347</td>\n",
       "      <td>1.097356</td>\n",
       "      <td>1.453888</td>\n",
       "      <td>1.189854</td>\n",
       "      <td>69.55504</td>\n",
       "      <td>68.44280</td>\n",
       "      <td>5.71930</td>\n",
       "      <td>7.37740</td>\n",
       "    </tr>\n",
       "    <tr>\n",
       "      <th>33</th>\n",
       "      <td>60</td>\n",
       "      <td>0.084709</td>\n",
       "      <td>0.956</td>\n",
       "      <td>88.790259</td>\n",
       "      <td>19.422500</td>\n",
       "      <td>11.56</td>\n",
       "      <td>32.710000</td>\n",
       "      <td>-0.752783</td>\n",
       "      <td>-0.377145</td>\n",
       "      <td>9.115839</td>\n",
       "      <td>0.989204</td>\n",
       "      <td>0.991132</td>\n",
       "      <td>3.325421</td>\n",
       "      <td>1.731936</td>\n",
       "      <td>67.04608</td>\n",
       "      <td>64.94760</td>\n",
       "      <td>24.21928</td>\n",
       "      <td>13.91030</td>\n",
       "    </tr>\n",
       "    <tr>\n",
       "      <th>153</th>\n",
       "      <td>60</td>\n",
       "      <td>0.108326</td>\n",
       "      <td>0.975</td>\n",
       "      <td>92.304239</td>\n",
       "      <td>7.695761</td>\n",
       "      <td>30.31</td>\n",
       "      <td>52.560000</td>\n",
       "      <td>18.770000</td>\n",
       "      <td>15.320000</td>\n",
       "      <td>3.266242</td>\n",
       "      <td>0.984808</td>\n",
       "      <td>0.977095</td>\n",
       "      <td>1.478606</td>\n",
       "      <td>1.258470</td>\n",
       "      <td>66.82578</td>\n",
       "      <td>66.09220</td>\n",
       "      <td>5.91003</td>\n",
       "      <td>6.17490</td>\n",
       "    </tr>\n",
       "    <tr>\n",
       "      <th>131</th>\n",
       "      <td>50</td>\n",
       "      <td>0.596655</td>\n",
       "      <td>0.947</td>\n",
       "      <td>92.973276</td>\n",
       "      <td>7.026724</td>\n",
       "      <td>29.61</td>\n",
       "      <td>39.700000</td>\n",
       "      <td>22.790000</td>\n",
       "      <td>16.910000</td>\n",
       "      <td>3.725886</td>\n",
       "      <td>0.986650</td>\n",
       "      <td>0.978802</td>\n",
       "      <td>1.448467</td>\n",
       "      <td>1.386153</td>\n",
       "      <td>69.92887</td>\n",
       "      <td>68.98200</td>\n",
       "      <td>6.01038</td>\n",
       "      <td>7.36470</td>\n",
       "    </tr>\n",
       "    <tr>\n",
       "      <th>36</th>\n",
       "      <td>80</td>\n",
       "      <td>0.080595</td>\n",
       "      <td>0.993</td>\n",
       "      <td>88.777440</td>\n",
       "      <td>28.001800</td>\n",
       "      <td>11.76</td>\n",
       "      <td>32.700000</td>\n",
       "      <td>-0.783333</td>\n",
       "      <td>-0.423333</td>\n",
       "      <td>11.486667</td>\n",
       "      <td>1.005865</td>\n",
       "      <td>1.006491</td>\n",
       "      <td>3.720197</td>\n",
       "      <td>1.936303</td>\n",
       "      <td>64.37776</td>\n",
       "      <td>62.50450</td>\n",
       "      <td>27.19426</td>\n",
       "      <td>14.02220</td>\n",
       "    </tr>\n",
       "    <tr>\n",
       "      <th>70</th>\n",
       "      <td>50</td>\n",
       "      <td>0.056794</td>\n",
       "      <td>0.956</td>\n",
       "      <td>91.539304</td>\n",
       "      <td>32.769800</td>\n",
       "      <td>7.78</td>\n",
       "      <td>65.850000</td>\n",
       "      <td>3.900000</td>\n",
       "      <td>32.590000</td>\n",
       "      <td>1.253667</td>\n",
       "      <td>0.980635</td>\n",
       "      <td>1.088957</td>\n",
       "      <td>1.374508</td>\n",
       "      <td>1.147763</td>\n",
       "      <td>69.83565</td>\n",
       "      <td>68.85995</td>\n",
       "      <td>5.33509</td>\n",
       "      <td>7.21160</td>\n",
       "    </tr>\n",
       "  </tbody>\n",
       "</table>\n",
       "</div>"
      ],
      "text/plain": [
       "      T    Acidez     Aw    Umidade         ST   Brix   Cor - L*   Cor - a*  \\\n",
       "61    5  0.062703  0.957  91.567047  27.606100   7.88  65.930000   3.730000   \n",
       "21    5  0.084709  0.956  88.790259  19.422500  11.56  32.710000  -0.752783   \n",
       "117  80  1.556349  0.955  89.885415  10.114585  26.38  33.130000  -0.250000   \n",
       "74   70  0.056794  0.956  91.539304  32.769800   7.78  65.850000   3.900000   \n",
       "133  60  0.596655  0.947  92.973276   7.026724  29.61  39.700000  22.790000   \n",
       "115  70  1.556349  0.955  89.885415  10.114585  26.38  33.130000  -0.250000   \n",
       "66   30  0.056794  0.956  91.539304  32.769800   7.78  65.850000   3.900000   \n",
       "11   50  0.557757  0.959  91.347034   8.652966   8.68  32.599107  -0.601188   \n",
       "159  90  0.108326  0.975  92.304239   7.695761  30.31  52.560000  18.770000   \n",
       "34   70  0.080595  0.993  88.777440  28.001800  11.76  32.700000  -0.783333   \n",
       "91   50  0.640485  0.953  89.983175  10.016825  12.88  42.600000  -1.520000   \n",
       "42   10  0.162593  0.984  86.651121  33.093300   6.58  35.506667  -0.783333   \n",
       "136  80  0.602444  0.948  92.991176   7.008824  29.63  39.690000  22.800000   \n",
       "90   50  0.632628  0.954  90.070932   9.929068  12.78  43.140000  -1.420000   \n",
       "10   50  0.538279  0.959  91.411839   8.588161   8.58  32.593333  -0.633333   \n",
       "33   60  0.084709  0.956  88.790259  19.422500  11.56  32.710000  -0.752783   \n",
       "153  60  0.108326  0.975  92.304239   7.695761  30.31  52.560000  18.770000   \n",
       "131  50  0.596655  0.947  92.973276   7.026724  29.61  39.700000  22.790000   \n",
       "36   80  0.080595  0.993  88.777440  28.001800  11.76  32.700000  -0.783333   \n",
       "70   50  0.056794  0.956  91.539304  32.769800   7.78  65.850000   3.900000   \n",
       "\n",
       "      Cor - b*        sig    w1_915   w1_2450    w2_915   w2_2450    e1_915  \\\n",
       "61   32.590000   0.484900  0.956924  0.928028  1.235806  1.054883  81.87867   \n",
       "21   -0.377145   3.072244  0.935314  0.963390  1.800381  1.124921  80.19082   \n",
       "117  -1.590000   9.152816  0.964807  1.186616  1.850816  2.263748  60.83796   \n",
       "74   32.590000   1.633667  0.988566  1.172366  1.375602  1.139686  65.07668   \n",
       "133  16.910000   4.204121  0.994881  0.986840  1.481341  1.296540  67.47320   \n",
       "115  -1.590000   8.275347  0.965897  1.145453  1.851697  1.909361  63.15934   \n",
       "66   32.590000   0.880567  0.973668  1.011520  1.285863  1.120016  74.74056   \n",
       "11    5.858409   1.356911  0.981347  1.097356  1.453888  1.189854  69.37424   \n",
       "159  15.320000   4.483072  0.997818  0.990019  1.467889  1.868359  60.24554   \n",
       "34   -0.423333  10.286667  1.000613  1.001767  3.665153  1.851654  66.18432   \n",
       "91   13.030000   7.786388  0.963829  0.937601  2.731786  1.486015  67.99030   \n",
       "42   -0.423333   0.897467  0.990554  0.977384  1.336651  1.102009  82.44786   \n",
       "136  16.900000   4.576408  0.997657  0.990226  1.523331  1.384455  63.52145   \n",
       "90   13.830000   7.783333  0.963829  0.937601  2.731786  1.486015  68.45892   \n",
       "10    5.803333   1.356333  0.981347  1.097356  1.453888  1.189854  69.55504   \n",
       "33   -0.377145   9.115839  0.989204  0.991132  3.325421  1.731936  67.04608   \n",
       "153  15.320000   3.266242  0.984808  0.977095  1.478606  1.258470  66.82578   \n",
       "131  16.910000   3.725886  0.986650  0.978802  1.448467  1.386153  69.92887   \n",
       "36   -0.423333  11.486667  1.005865  1.006491  3.720197  1.936303  64.37776   \n",
       "70   32.590000   1.253667  0.980635  1.088957  1.374508  1.147763  69.83565   \n",
       "\n",
       "      e1_2450    e2_915   e2_2450  \n",
       "61   76.93965   8.66829  17.88990  \n",
       "21   74.10700  17.11086  21.03050  \n",
       "117  60.10450   9.99038   6.50680  \n",
       "74   64.40500   5.38774   5.52770  \n",
       "133  66.67330   6.10524   6.47750  \n",
       "115  62.27990   9.57198   6.92280  \n",
       "66   73.01880   5.88888  10.21090  \n",
       "11   68.31860   5.74512   7.25980  \n",
       "159  59.65470   6.69592   4.79750  \n",
       "34   64.18005  25.54488  14.03230  \n",
       "91   65.91400  17.99186  12.14730  \n",
       "42   78.77420   8.93029  16.39805  \n",
       "136  62.89270   6.39810   5.47155  \n",
       "90   66.25260  17.74668  12.17080  \n",
       "10   68.44280   5.71930   7.37740  \n",
       "33   64.94760  24.21928  13.91030  \n",
       "153  66.09220   5.91003   6.17490  \n",
       "131  68.98200   6.01038   7.36470  \n",
       "36   62.50450  27.19426  14.02220  \n",
       "70   68.85995   5.33509   7.21160  "
      ]
     },
     "execution_count": 3,
     "metadata": {},
     "output_type": "execute_result"
    }
   ],
   "source": [
    "df.sample(20)"
   ]
  },
  {
   "cell_type": "markdown",
   "id": "9d1488b4",
   "metadata": {},
   "source": [
    "### Separação entre variáveis dependentes e independentes"
   ]
  },
  {
   "cell_type": "code",
   "execution_count": 4,
   "id": "a828e7d1",
   "metadata": {},
   "outputs": [],
   "source": [
    "X = df.iloc[:, 0:10]\n",
    "\n",
    "#Vamos prever e1_945\n",
    "y = df['e1_915']"
   ]
  },
  {
   "cell_type": "code",
   "execution_count": 5,
   "id": "9ac3c7d3",
   "metadata": {},
   "outputs": [
    {
     "data": {
      "text/plain": [
       "(160, 10)"
      ]
     },
     "execution_count": 5,
     "metadata": {},
     "output_type": "execute_result"
    }
   ],
   "source": [
    "X.shape"
   ]
  },
  {
   "cell_type": "code",
   "execution_count": 6,
   "id": "3faeba9d",
   "metadata": {},
   "outputs": [
    {
     "data": {
      "text/plain": [
       "(160,)"
      ]
     },
     "execution_count": 6,
     "metadata": {},
     "output_type": "execute_result"
    }
   ],
   "source": [
    "y.shape"
   ]
  },
  {
   "cell_type": "code",
   "execution_count": 7,
   "id": "4175d63b",
   "metadata": {},
   "outputs": [],
   "source": [
    "from sklearn.model_selection import train_test_split"
   ]
  },
  {
   "cell_type": "code",
   "execution_count": 8,
   "id": "0c55aa3f",
   "metadata": {},
   "outputs": [],
   "source": [
    "X_train, X_test, y_train, y_test = train_test_split(X, y,test_size = 0.3,random_state=0)"
   ]
  },
  {
   "cell_type": "markdown",
   "id": "6390dfb1",
   "metadata": {},
   "source": [
    "# Light GBM"
   ]
  },
  {
   "cell_type": "code",
   "execution_count": 9,
   "id": "6d812280",
   "metadata": {},
   "outputs": [],
   "source": [
    "import xgboost as xg"
   ]
  },
  {
   "cell_type": "code",
   "execution_count": 10,
   "id": "3adfe699",
   "metadata": {},
   "outputs": [],
   "source": [
    "model = xg.XGBRegressor(n_estimators=1000, max_depth=4, eta=0.3, subsample=0.7, colsample_bytree=0.7)"
   ]
  },
  {
   "cell_type": "code",
   "execution_count": 11,
   "id": "7ba17d4e",
   "metadata": {},
   "outputs": [
    {
     "data": {
      "text/plain": [
       "XGBRegressor(base_score=0.5, booster='gbtree', colsample_bylevel=1,\n",
       "             colsample_bynode=1, colsample_bytree=0.7, eta=0.3, gamma=0,\n",
       "             gpu_id=-1, importance_type='gain', interaction_constraints='',\n",
       "             learning_rate=0.300000012, max_delta_step=0, max_depth=4,\n",
       "             min_child_weight=1, missing=nan, monotone_constraints='()',\n",
       "             n_estimators=1000, n_jobs=8, num_parallel_tree=1, random_state=0,\n",
       "             reg_alpha=0, reg_lambda=1, scale_pos_weight=1, subsample=0.7,\n",
       "             tree_method='exact', validate_parameters=1, verbosity=None)"
      ]
     },
     "execution_count": 11,
     "metadata": {},
     "output_type": "execute_result"
    }
   ],
   "source": [
    "model.fit(X_train, y_train)"
   ]
  },
  {
   "cell_type": "code",
   "execution_count": 12,
   "id": "c27f1639",
   "metadata": {},
   "outputs": [],
   "source": [
    "from sklearn.metrics import r2_score"
   ]
  },
  {
   "cell_type": "code",
   "execution_count": 13,
   "id": "642bbba8",
   "metadata": {},
   "outputs": [],
   "source": [
    "y_pred = model.predict(X_test)"
   ]
  },
  {
   "cell_type": "code",
   "execution_count": 14,
   "id": "8bda5d85",
   "metadata": {},
   "outputs": [
    {
     "data": {
      "text/plain": [
       "0.9952802160980864"
      ]
     },
     "execution_count": 14,
     "metadata": {},
     "output_type": "execute_result"
    }
   ],
   "source": [
    "r2_score(y_true = y_test, y_pred = y_pred)"
   ]
  },
  {
   "cell_type": "markdown",
   "id": "fb94167d",
   "metadata": {},
   "source": [
    "# Shap Values"
   ]
  },
  {
   "cell_type": "code",
   "execution_count": 15,
   "id": "f4dd642b",
   "metadata": {},
   "outputs": [],
   "source": [
    "import shap "
   ]
  },
  {
   "cell_type": "code",
   "execution_count": 16,
   "id": "352ab9b2",
   "metadata": {},
   "outputs": [],
   "source": [
    "explainer = shap.TreeExplainer(model)"
   ]
  },
  {
   "cell_type": "code",
   "execution_count": 17,
   "id": "bd5cbb28",
   "metadata": {},
   "outputs": [
    {
     "name": "stderr",
     "output_type": "stream",
     "text": [
      "ntree_limit is deprecated, use `iteration_range` or model slicing instead.\n"
     ]
    }
   ],
   "source": [
    "shap_values = explainer.shap_values(X_train)"
   ]
  },
  {
   "cell_type": "code",
   "execution_count": 68,
   "id": "b780318f",
   "metadata": {},
   "outputs": [],
   "source": [
    "?shap.summary_plot"
   ]
  },
  {
   "cell_type": "code",
   "execution_count": 72,
   "id": "63664acd",
   "metadata": {},
   "outputs": [
    {
     "data": {
      "image/png": "[encoded data removed]",
      "text/plain": [
       "<Figure size 720x576 with 2 Axes>"
      ]
     },
     "metadata": {
      "needs_background": "light"
     },
     "output_type": "display_data"
    }
   ],
   "source": [
    "plt.title('Shap values for physical-chemical properties on dieletric property of e_915 MHz')\n",
    "shap.summary_plot(shap_values, features=X_train, \n",
    "                  feature_names=X_train.columns,\n",
    "                  plot_size = (10,8))"
   ]
  },
  {
   "cell_type": "markdown",
   "id": "d002a618",
   "metadata": {},
   "source": [
    "## Modelo 2 retirando a temperatura"
   ]
  },
  {
   "cell_type": "code",
   "execution_count": 19,
   "id": "51c6c51a",
   "metadata": {},
   "outputs": [],
   "source": [
    "X2 = df.iloc[:, 1:10]\n",
    "\n",
    "#Vamos prever e1_945\n",
    "y2 = df['e1_915']"
   ]
  },
  {
   "cell_type": "code",
   "execution_count": 20,
   "id": "4439504b",
   "metadata": {},
   "outputs": [],
   "source": [
    "from sklearn.model_selection import train_test_split"
   ]
  },
  {
   "cell_type": "code",
   "execution_count": 21,
   "id": "0c7578f6",
   "metadata": {},
   "outputs": [],
   "source": [
    "X_train2, X_test2, y_train2, y_test2 = train_test_split(X2, y2,test_size = 0.3,random_state=0)"
   ]
  },
  {
   "cell_type": "markdown",
   "id": "862b552d",
   "metadata": {},
   "source": [
    "# Light GBM"
   ]
  },
  {
   "cell_type": "code",
   "execution_count": 22,
   "id": "b2703f7a",
   "metadata": {},
   "outputs": [],
   "source": [
    "model2 = xg.XGBRegressor(n_estimators=1000, max_depth=4, eta=0.3, subsample=0.7, colsample_bytree=0.7)"
   ]
  },
  {
   "cell_type": "code",
   "execution_count": 23,
   "id": "1eadc8f3",
   "metadata": {},
   "outputs": [
    {
     "data": {
      "text/plain": [
       "XGBRegressor(base_score=0.5, booster='gbtree', colsample_bylevel=1,\n",
       "             colsample_bynode=1, colsample_bytree=0.7, eta=0.3, gamma=0,\n",
       "             gpu_id=-1, importance_type='gain', interaction_constraints='',\n",
       "             learning_rate=0.300000012, max_delta_step=0, max_depth=4,\n",
       "             min_child_weight=1, missing=nan, monotone_constraints='()',\n",
       "             n_estimators=1000, n_jobs=8, num_parallel_tree=1, random_state=0,\n",
       "             reg_alpha=0, reg_lambda=1, scale_pos_weight=1, subsample=0.7,\n",
       "             tree_method='exact', validate_parameters=1, verbosity=None)"
      ]
     },
     "execution_count": 23,
     "metadata": {},
     "output_type": "execute_result"
    }
   ],
   "source": [
    "model2.fit(X_train2, y_train2)"
   ]
  },
  {
   "cell_type": "code",
   "execution_count": 24,
   "id": "4571908b",
   "metadata": {},
   "outputs": [],
   "source": [
    "from sklearn.metrics import r2_score"
   ]
  },
  {
   "cell_type": "code",
   "execution_count": 25,
   "id": "b056477d",
   "metadata": {},
   "outputs": [],
   "source": [
    "y_pred2 = model2.predict(X_test2)"
   ]
  },
  {
   "cell_type": "code",
   "execution_count": 26,
   "id": "4bf9fe3b",
   "metadata": {},
   "outputs": [
    {
     "data": {
      "text/plain": [
       "0.9495369958783838"
      ]
     },
     "execution_count": 26,
     "metadata": {},
     "output_type": "execute_result"
    }
   ],
   "source": [
    "r2_score(y_true = y_test2, y_pred = y_pred2)"
   ]
  },
  {
   "cell_type": "markdown",
   "id": "7a80cb74",
   "metadata": {},
   "source": [
    "# Shap Values"
   ]
  },
  {
   "cell_type": "code",
   "execution_count": 27,
   "id": "a932ac88",
   "metadata": {},
   "outputs": [],
   "source": [
    "import shap "
   ]
  },
  {
   "cell_type": "code",
   "execution_count": 28,
   "id": "29df2c5d",
   "metadata": {},
   "outputs": [],
   "source": [
    "explainer2 = shap.TreeExplainer(model2)"
   ]
  },
  {
   "cell_type": "code",
   "execution_count": 29,
   "id": "0682d169",
   "metadata": {},
   "outputs": [
    {
     "name": "stderr",
     "output_type": "stream",
     "text": [
      "ntree_limit is deprecated, use `iteration_range` or model slicing instead.\n"
     ]
    }
   ],
   "source": [
    "shap_values2 = explainer2.shap_values(X_train2)"
   ]
  },
  {
   "cell_type": "code",
   "execution_count": 30,
   "id": "521ac944",
   "metadata": {},
   "outputs": [
    {
     "data": {
      "image/png": "[encoded data removed]",
      "text/plain": [
       "<Figure size 576x367.2 with 2 Axes>"
      ]
     },
     "metadata": {
      "needs_background": "light"
     },
     "output_type": "display_data"
    }
   ],
   "source": [
    "shap.summary_plot(shap_values2, features=X_train2, feature_names=X_train2.columns)"
   ]
  },
  {
   "cell_type": "markdown",
   "id": "69ed9052",
   "metadata": {},
   "source": [
    "- Condutividade (sig) é altamente dependente da temperatura"
   ]
  },
  {
   "cell_type": "markdown",
   "id": "55c8d671",
   "metadata": {},
   "source": [
    "## Modelo sem temperatura e condutividade"
   ]
  },
  {
   "cell_type": "code",
   "execution_count": 31,
   "id": "11b16e13",
   "metadata": {},
   "outputs": [],
   "source": [
    "X3 = df.iloc[:, 1:9]\n",
    "\n",
    "#Vamos prever e1_945\n",
    "y3 = df['e1_915']"
   ]
  },
  {
   "cell_type": "code",
   "execution_count": 32,
   "id": "4d640378",
   "metadata": {},
   "outputs": [],
   "source": [
    "from sklearn.model_selection import train_test_split"
   ]
  },
  {
   "cell_type": "code",
   "execution_count": 33,
   "id": "cd4b0e1d",
   "metadata": {},
   "outputs": [],
   "source": [
    "X_train3, X_test3, y_train3, y_test3 = train_test_split(X3, y3,test_size = 0.3,random_state=0)"
   ]
  },
  {
   "cell_type": "markdown",
   "id": "09fe1528",
   "metadata": {},
   "source": [
    "# Light GBM"
   ]
  },
  {
   "cell_type": "code",
   "execution_count": 34,
   "id": "ea5dd9bb",
   "metadata": {},
   "outputs": [],
   "source": [
    "model3 = xg.XGBRegressor(n_estimators=1000, max_depth=4, eta=0.3, subsample=0.7, colsample_bytree=0.7)"
   ]
  },
  {
   "cell_type": "code",
   "execution_count": 35,
   "id": "bf9e4682",
   "metadata": {},
   "outputs": [
    {
     "data": {
      "text/plain": [
       "XGBRegressor(base_score=0.5, booster='gbtree', colsample_bylevel=1,\n",
       "             colsample_bynode=1, colsample_bytree=0.7, eta=0.3, gamma=0,\n",
       "             gpu_id=-1, importance_type='gain', interaction_constraints='',\n",
       "             learning_rate=0.300000012, max_delta_step=0, max_depth=4,\n",
       "             min_child_weight=1, missing=nan, monotone_constraints='()',\n",
       "             n_estimators=1000, n_jobs=8, num_parallel_tree=1, random_state=0,\n",
       "             reg_alpha=0, reg_lambda=1, scale_pos_weight=1, subsample=0.7,\n",
       "             tree_method='exact', validate_parameters=1, verbosity=None)"
      ]
     },
     "execution_count": 35,
     "metadata": {},
     "output_type": "execute_result"
    }
   ],
   "source": [
    "model3.fit(X_train3, y_train3)"
   ]
  },
  {
   "cell_type": "code",
   "execution_count": 36,
   "id": "95cac62b",
   "metadata": {},
   "outputs": [],
   "source": [
    "from sklearn.metrics import r2_score"
   ]
  },
  {
   "cell_type": "code",
   "execution_count": 38,
   "id": "b1b97408",
   "metadata": {},
   "outputs": [],
   "source": [
    "y_pred3 = model3.predict(X_test3)"
   ]
  },
  {
   "cell_type": "code",
   "execution_count": 39,
   "id": "4ee15c64",
   "metadata": {},
   "outputs": [
    {
     "data": {
      "text/plain": [
       "-0.25706719150054913"
      ]
     },
     "execution_count": 39,
     "metadata": {},
     "output_type": "execute_result"
    }
   ],
   "source": [
    "r2_score(y_true = y_test3, y_pred = y_pred3)"
   ]
  },
  {
   "cell_type": "markdown",
   "id": "0a619771",
   "metadata": {},
   "source": [
    "# Shap Values"
   ]
  },
  {
   "cell_type": "code",
   "execution_count": 40,
   "id": "023609fa",
   "metadata": {},
   "outputs": [],
   "source": [
    "import shap "
   ]
  },
  {
   "cell_type": "code",
   "execution_count": 41,
   "id": "d9a5cb4a",
   "metadata": {},
   "outputs": [],
   "source": [
    "explainer3 = shap.TreeExplainer(model3)"
   ]
  },
  {
   "cell_type": "code",
   "execution_count": 44,
   "id": "166a93c3",
   "metadata": {},
   "outputs": [],
   "source": [
    "shap_values3 = explainer3.shap_values(X_train3)"
   ]
  },
  {
   "cell_type": "code",
   "execution_count": 45,
   "id": "b637761b",
   "metadata": {},
   "outputs": [
    {
     "data": {
      "image/png": "[encoded data removed]",
      "text/plain": [
       "<Figure size 576x338.4 with 2 Axes>"
      ]
     },
     "metadata": {
      "needs_background": "light"
     },
     "output_type": "display_data"
    }
   ],
   "source": [
    "shap.summary_plot(shap_values3, features=X_train3, feature_names=X_train3.columns)"
   ]
  }
 ],
 "metadata": {
  "kernelspec": {
   "display_name": "Python 3",
   "language": "python",
   "name": "python3"
  },
  "language_info": {
   "codemirror_mode": {
    "name": "ipython",
    "version": 3
   },
   "file_extension": ".py",
   "mimetype": "text/x-python",
   "name": "python",
   "nbconvert_exporter": "python",
   "pygments_lexer": "ipython3",
   "version": "3.8.5"
  }
 },
 "nbformat": 4,
 "nbformat_minor": 5
}
